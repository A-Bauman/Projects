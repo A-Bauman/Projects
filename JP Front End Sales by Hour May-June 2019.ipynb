{
 "cells": [
  {
   "cell_type": "code",
   "execution_count": 1,
   "metadata": {},
   "outputs": [],
   "source": [
    "import pandas as pd\n",
    "import matplotlib.pyplot as plt\n",
    "import seaborn as sns\n",
    "import numpy as np\n",
    "from IPython.display import display, HTML\n",
    "\n",
    "import warnings\n",
    "warnings.filterwarnings('ignore')\n",
    "%matplotlib inline"
   ]
  },
  {
   "cell_type": "code",
   "execution_count": 2,
   "metadata": {},
   "outputs": [
    {
     "data": {
      "text/html": [
       "<script>\n",
       "code_show=true; \n",
       "function code_toggle() {\n",
       " if (code_show){\n",
       " $('div.input').hide();\n",
       " } else {\n",
       " $('div.input').show();\n",
       " }\n",
       " code_show = !code_show\n",
       "} \n",
       "$( document ).ready(code_toggle);\n",
       "</script>\n",
       "To toggle seeing the raw code for the ENTIRE notebook, click <a href=\"javascript:code_toggle()\">here</a>."
      ],
      "text/plain": [
       "<IPython.core.display.HTML object>"
      ]
     },
     "execution_count": 2,
     "metadata": {},
     "output_type": "execute_result"
    }
   ],
   "source": [
    "HTML('''<script>\n",
    "code_show=true; \n",
    "function code_toggle() {\n",
    " if (code_show){\n",
    " $('div.input').hide();\n",
    " } else {\n",
    " $('div.input').show();\n",
    " }\n",
    " code_show = !code_show\n",
    "} \n",
    "$( document ).ready(code_toggle);\n",
    "</script>\n",
    "To toggle seeing the raw code for the ENTIRE notebook, click <a href=\"javascript:code_toggle()\">here</a>.''')"
   ]
  },
  {
   "cell_type": "code",
   "execution_count": 4,
   "metadata": {},
   "outputs": [],
   "source": [
    "data = pd.read_csv(\"jasminepearl_20190501-20190531-MAY-transactions.csv\")\n",
    "data['Time'] = pd.to_datetime(data['Time'])\n",
    "\n",
    "data.drop(['Customer Name', 'Customer Email', 'New Liabilities', 'Tax', 'Tips', 'Card Type',\n",
    "           'Receipt Number', 'Transaction ID', 'Operation Type', 'Last 4 Digits',\n",
    "           'Cardholder Name', 'Register Name/Number', 'Tendered Amount'], 1, inplace=True)\n",
    "\n",
    "data_june = pd.read_csv(\"jasminepearl_20190601-20190630-JUNE-transactions.csv\")\n",
    "data_june['Time'] = pd.to_datetime(data_june['Time'])\n",
    "\n",
    "data_june.drop(['Customer Name', 'Customer Email', 'New Liabilities', 'Tax', 'Tips', 'Card Type',\n",
    "           'Receipt Number', 'Transaction ID', 'Operation Type', 'Last 4 Digits',\n",
    "           'Cardholder Name', 'Register Name/Number', 'Tendered Amount'], 1, inplace=True)\n",
    "\n",
    "may = data.loc[data['Time'].dt.month == 5]\n",
    "jun = data_june.loc[data_june['Time'].dt.month == 6]"
   ]
  },
  {
   "cell_type": "code",
   "execution_count": 5,
   "metadata": {},
   "outputs": [],
   "source": [
    "def averages(mnth, hour, day):\n",
    "    \"\"\"get dataframe for specified hour of given day\"\"\"\n",
    "    return mnth.loc[(mnth['Time'].dt.hour == hour) &\n",
    "             (mnth['Time'].dt.weekday == day)]"
   ]
  },
  {
   "cell_type": "code",
   "execution_count": 6,
   "metadata": {},
   "outputs": [
    {
     "name": "stdout",
     "output_type": "stream",
     "text": [
      "\n",
      "                  ——— May ———\n",
      "\n",
      "Mon\n",
      "Hour: 10    total hourly sales:  416.49    number of transactions: 12    average: 34.71\n",
      "Hour: 11    total hourly sales:  329.75    number of transactions: 15    average: 21.98\n",
      "Hour: 12    total hourly sales:  432.77    number of transactions: 17    average: 25.46\n",
      "Hour: 13    total hourly sales:  520.40    number of transactions: 14    average: 37.17\n",
      "Hour: 14    total hourly sales:  310.34    number of transactions:  9    average: 34.48\n",
      "Hour: 15    total hourly sales:  216.53    number of transactions: 17    average: 12.74\n",
      "Hour: 16    total hourly sales:  304.27    number of transactions: 12    average: 25.36\n",
      "Hour: 17    total hourly sales:  219.62    number of transactions:  6    average: 36.60\n",
      "\n",
      "Tue\n",
      "Hour: 10    total hourly sales:  157.66    number of transactions:  8    average: 19.71\n",
      "Hour: 11    total hourly sales:   69.59    number of transactions:  4    average: 17.40\n",
      "Hour: 12    total hourly sales:  255.10    number of transactions: 12    average: 21.26\n",
      "Hour: 13    total hourly sales:  291.92    number of transactions: 10    average: 29.19\n",
      "Hour: 14    total hourly sales:  124.67    number of transactions:  8    average: 15.58\n",
      "Hour: 15    total hourly sales:  244.44    number of transactions: 14    average: 17.46\n",
      "Hour: 16    total hourly sales:  100.37    number of transactions:  8    average: 12.55\n",
      "Hour: 17    total hourly sales:  316.13    number of transactions: 14    average: 22.58\n",
      "\n",
      "Wed\n",
      "Hour: 10    total hourly sales:  503.10    number of transactions: 14    average: 35.94\n",
      "Hour: 11    total hourly sales:  223.53    number of transactions:  9    average: 24.84\n",
      "Hour: 12    total hourly sales:  468.29    number of transactions: 13    average: 36.02\n",
      "Hour: 13    total hourly sales:  703.73    number of transactions: 25    average: 28.15\n",
      "Hour: 14    total hourly sales:  370.80    number of transactions: 14    average: 26.49\n",
      "Hour: 15    total hourly sales:  176.35    number of transactions: 16    average: 11.02\n",
      "Hour: 16    total hourly sales:  273.40    number of transactions:  7    average: 39.06\n",
      "Hour: 17    total hourly sales:  267.17    number of transactions: 10    average: 26.72\n",
      "\n",
      "Thu\n",
      "Hour: 10    total hourly sales:  313.34    number of transactions: 11    average: 28.49\n",
      "Hour: 11    total hourly sales:  208.37    number of transactions:  9    average: 23.15\n",
      "Hour: 12    total hourly sales:  367.83    number of transactions: 12    average: 30.65\n",
      "Hour: 13    total hourly sales:  197.36    number of transactions: 15    average: 13.16\n",
      "Hour: 14    total hourly sales:  353.12    number of transactions: 14    average: 25.22\n",
      "Hour: 15    total hourly sales:  326.75    number of transactions: 20    average: 16.34\n",
      "Hour: 16    total hourly sales:  357.81    number of transactions: 15    average: 23.85\n",
      "Hour: 17    total hourly sales:  202.77    number of transactions:  7    average: 28.97\n",
      "\n",
      "Fri\n",
      "Hour: 10    total hourly sales:  327.15    number of transactions: 13    average: 25.17\n",
      "Hour: 11    total hourly sales:  201.60    number of transactions: 17    average: 11.86\n",
      "Hour: 12    total hourly sales:  321.06    number of transactions:  9    average: 35.67\n",
      "Hour: 13    total hourly sales:  406.90    number of transactions: 15    average: 27.13\n",
      "Hour: 14    total hourly sales:  549.11    number of transactions: 27    average: 20.34\n",
      "Hour: 15    total hourly sales:  200.42    number of transactions:  9    average: 22.27\n",
      "Hour: 16    total hourly sales:  109.68    number of transactions: 13    average:  8.44\n",
      "Hour: 17    total hourly sales:  485.84    number of transactions: 14    average: 34.70\n",
      "\n",
      "Sat\n",
      "Hour: 11    total hourly sales:  525.85    number of transactions: 15    average: 35.06\n",
      "Hour: 12    total hourly sales:  602.83    number of transactions: 21    average: 28.71\n",
      "Hour: 13    total hourly sales:  671.39    number of transactions: 25    average: 26.86\n",
      "Hour: 14    total hourly sales:  793.06    number of transactions: 26    average: 30.50\n",
      "Hour: 15    total hourly sales:  605.25    number of transactions: 26    average: 23.28\n",
      "Hour: 16    total hourly sales:  391.58    number of transactions: 12    average: 32.63\n",
      "\n",
      "Sun\n",
      "Hour: 11    total hourly sales:  250.36    number of transactions: 13    average: 19.26\n",
      "Hour: 12    total hourly sales:  406.10    number of transactions: 16    average: 25.38\n",
      "Hour: 13    total hourly sales:  438.32    number of transactions: 20    average: 21.92\n",
      "Hour: 14    total hourly sales:  499.81    number of transactions: 19    average: 26.31\n",
      "Hour: 15    total hourly sales: 1249.12    number of transactions: 31    average: 40.29\n",
      "Hour: 16    total hourly sales:   54.13    number of transactions:  3    average: 18.04\n",
      "\n"
     ]
    }
   ],
   "source": [
    "hours = [10, 11, 12, 13, 14, 15, 16, 17]\n",
    "days = ['Mon', 'Tue', 'Wed', 'Thu', 'Fri', 'Sat', 'Sun']\n",
    "\n",
    "print(\"\\n                  ——— May ———\\n\")\n",
    "for i in range(7):\n",
    "    print(days[i])\n",
    "    for hour in hours:\n",
    "        if (i >= 5) and (hour == 10 or hour == 17):\n",
    "            continue\n",
    "        if (i == 6) and (hour == 17):\n",
    "            continue\n",
    "        total = averages(may, hour, i)['Total Due'].sum()\n",
    "        count = averages(may, hour, i)['Total Due'].count()\n",
    "        print(f\"Hour: {hour}    total hourly sales: {total:7.2f}    \", end ='')\n",
    "        print(f\"number of transactions: {count:2d}    average: {total/count:5.2f}\")\n",
    "    print(\"\")"
   ]
  },
  {
   "cell_type": "code",
   "execution_count": 7,
   "metadata": {},
   "outputs": [
    {
     "name": "stdout",
     "output_type": "stream",
     "text": [
      "\n",
      "                  ——— June ———\n",
      "\n",
      "Mon\n",
      "Hour: 10    total hourly sales:  281.90    number of transactions: 11    average: 25.63\n",
      "Hour: 11    total hourly sales:  221.61    number of transactions: 18    average: 12.31\n",
      "Hour: 12    total hourly sales:  260.11    number of transactions: 10    average: 26.01\n",
      "Hour: 13    total hourly sales:  437.89    number of transactions: 16    average: 27.37\n",
      "Hour: 14    total hourly sales:  319.44    number of transactions: 18    average: 17.75\n",
      "Hour: 15    total hourly sales:  304.63    number of transactions: 16    average: 19.04\n",
      "Hour: 16    total hourly sales:  139.81    number of transactions:  8    average: 17.48\n",
      "Hour: 17    total hourly sales:  463.14    number of transactions: 13    average: 35.63\n",
      "\n",
      "Tue\n",
      "Hour: 10    total hourly sales:  131.87    number of transactions: 12    average: 10.99\n",
      "Hour: 11    total hourly sales:  157.34    number of transactions:  8    average: 19.67\n",
      "Hour: 12    total hourly sales:  444.23    number of transactions: 12    average: 37.02\n",
      "Hour: 13    total hourly sales:  296.22    number of transactions: 12    average: 24.69\n",
      "Hour: 14    total hourly sales:  186.10    number of transactions: 13    average: 14.32\n",
      "Hour: 15    total hourly sales:  437.56    number of transactions: 18    average: 24.31\n",
      "Hour: 16    total hourly sales:  218.88    number of transactions: 10    average: 21.89\n",
      "Hour: 17    total hourly sales:  361.68    number of transactions: 12    average: 30.14\n",
      "\n",
      "Wed\n",
      "Hour: 10    total hourly sales:  332.65    number of transactions: 12    average: 27.72\n",
      "Hour: 11    total hourly sales:  290.01    number of transactions: 12    average: 24.17\n",
      "Hour: 12    total hourly sales:  160.49    number of transactions: 16    average: 10.03\n",
      "Hour: 13    total hourly sales:  339.07    number of transactions: 12    average: 28.26\n",
      "Hour: 14    total hourly sales:  498.46    number of transactions: 16    average: 31.15\n",
      "Hour: 15    total hourly sales:  149.39    number of transactions: 12    average: 12.45\n",
      "Hour: 16    total hourly sales:   47.98    number of transactions:  2    average: 23.99\n",
      "Hour: 17    total hourly sales:  312.38    number of transactions: 11    average: 28.40\n",
      "\n",
      "Thu\n",
      "Hour: 10    total hourly sales:  292.09    number of transactions:  9    average: 32.45\n",
      "Hour: 11    total hourly sales:  247.73    number of transactions: 12    average: 20.64\n",
      "Hour: 12    total hourly sales:  365.82    number of transactions: 14    average: 26.13\n",
      "Hour: 13    total hourly sales:  284.91    number of transactions: 15    average: 18.99\n",
      "Hour: 14    total hourly sales:  641.54    number of transactions: 23    average: 27.89\n",
      "Hour: 15    total hourly sales:  331.37    number of transactions: 12    average: 27.61\n",
      "Hour: 16    total hourly sales:  229.39    number of transactions: 11    average: 20.85\n",
      "Hour: 17    total hourly sales:  211.72    number of transactions:  9    average: 23.52\n",
      "\n",
      "Fri\n",
      "Hour: 10    total hourly sales:  248.78    number of transactions: 11    average: 22.62\n",
      "Hour: 11    total hourly sales:  414.05    number of transactions: 13    average: 31.85\n",
      "Hour: 12    total hourly sales:  321.74    number of transactions: 13    average: 24.75\n",
      "Hour: 13    total hourly sales:  490.34    number of transactions: 21    average: 23.35\n",
      "Hour: 14    total hourly sales:  672.32    number of transactions: 25    average: 26.89\n",
      "Hour: 15    total hourly sales:  177.94    number of transactions:  9    average: 19.77\n",
      "Hour: 16    total hourly sales:  268.04    number of transactions: 15    average: 17.87\n",
      "Hour: 17    total hourly sales:  134.50    number of transactions:  6    average: 22.42\n",
      "\n",
      "Sat\n",
      "Hour: 11    total hourly sales:  308.43    number of transactions: 18    average: 17.14\n",
      "Hour: 12    total hourly sales:  604.12    number of transactions: 22    average: 27.46\n",
      "Hour: 13    total hourly sales:  804.84    number of transactions: 25    average: 32.19\n",
      "Hour: 14    total hourly sales:  834.69    number of transactions: 32    average: 26.08\n",
      "Hour: 15    total hourly sales: 1251.36    number of transactions: 44    average: 28.44\n",
      "Hour: 16    total hourly sales:  601.07    number of transactions: 20    average: 30.05\n",
      "\n",
      "Sun\n",
      "Hour: 11    total hourly sales:  670.80    number of transactions: 17    average: 39.46\n",
      "Hour: 12    total hourly sales: 1094.64    number of transactions: 33    average: 33.17\n",
      "Hour: 13    total hourly sales:  511.39    number of transactions: 20    average: 25.57\n",
      "Hour: 14    total hourly sales:  772.78    number of transactions: 28    average: 27.60\n",
      "Hour: 15    total hourly sales:  556.58    number of transactions: 19    average: 29.29\n",
      "Hour: 16    total hourly sales:    0.00    number of transactions:  0    average:   nan\n",
      "\n"
     ]
    }
   ],
   "source": [
    "hours = [10, 11, 12, 13, 14, 15, 16, 17]\n",
    "days = ['Mon', 'Tue', 'Wed', 'Thu', 'Fri', 'Sat', 'Sun']\n",
    "\n",
    "print(\"\\n                  ——— June ———\\n\")\n",
    "for i in range(7):\n",
    "    print(days[i])\n",
    "    for hour in hours:\n",
    "        if (i >= 5) and (hour == 10 or hour == 17):\n",
    "            continue\n",
    "        if (i == 6) and (hour == 17):\n",
    "            continue\n",
    "        total = averages(jun, hour, i)['Total Due'].sum()\n",
    "        count = averages(jun, hour, i)['Total Due'].count()\n",
    "        print(f\"Hour: {hour}    total hourly sales: {total:7.2f}    \", end ='')\n",
    "        print(f\"number of transactions: {count:2d}    average: {total/count:5.2f}\")\n",
    "    print(\"\")"
   ]
  },
  {
   "cell_type": "code",
   "execution_count": 8,
   "metadata": {},
   "outputs": [],
   "source": [
    "may['Day'] = may['Time'].dt.weekday\n",
    "may['Hour'] = may['Time'].dt.hour\n",
    "\n",
    "jun['Day'] = jun['Time'].dt.weekday\n",
    "jun['Hour'] = jun['Time'].dt.hour"
   ]
  },
  {
   "cell_type": "code",
   "execution_count": 9,
   "metadata": {},
   "outputs": [
    {
     "name": "stdout",
     "output_type": "stream",
     "text": [
      "——— May ———\n",
      "Time\tAverage Total Sales\n",
      "10\t$ 343.55\n",
      "11\t$ 258.44\n",
      "12\t$ 407.71\n",
      " 1\t$ 461.43\n",
      " 2\t$ 428.70\n",
      " 3\t$ 431.27\n",
      " 4\t$ 227.32\n",
      " 5\t$ 298.31\n",
      " 6\t$   6.60\n"
     ]
    }
   ],
   "source": [
    "hours = '10 11 12 1 2 3 4 5 6'.split()\n",
    "\n",
    "avgs = may.groupby(['Day', 'Hour'])['Total Due'].sum().groupby('Hour').mean()\n",
    "print(\"——— May ———\")\n",
    "print(\"Time\\tAverage Total Sales\")\n",
    "for idx, value in enumerate(avgs):\n",
    "    print(f\"{hours[idx]:>2}\\t${value:7.2f}\")"
   ]
  },
  {
   "cell_type": "code",
   "execution_count": 10,
   "metadata": {},
   "outputs": [
    {
     "name": "stdout",
     "output_type": "stream",
     "text": [
      "——— June ———\n",
      "Time\tAverage Total Sales\n",
      "10\t$ 257.46\n",
      "11\t$ 330.00\n",
      "12\t$ 464.45\n",
      " 1\t$ 452.09\n",
      " 2\t$ 560.76\n",
      " 3\t$ 458.40\n",
      " 4\t$ 250.86\n",
      " 5\t$ 296.68\n",
      " 6\t$  27.61\n"
     ]
    },
    {
     "ename": "IndexError",
     "evalue": "list index out of range",
     "output_type": "error",
     "traceback": [
      "\u001b[0;31m---------------------------------------------------------------------------\u001b[0m",
      "\u001b[0;31mIndexError\u001b[0m                                Traceback (most recent call last)",
      "\u001b[0;32m<ipython-input-10-1f3ea37c4397>\u001b[0m in \u001b[0;36m<module>\u001b[0;34m()\u001b[0m\n\u001b[1;32m      3\u001b[0m \u001b[0mprint\u001b[0m\u001b[0;34m(\u001b[0m\u001b[0;34m\"Time\\tAverage Total Sales\"\u001b[0m\u001b[0;34m)\u001b[0m\u001b[0;34m\u001b[0m\u001b[0m\n\u001b[1;32m      4\u001b[0m \u001b[0;32mfor\u001b[0m \u001b[0midx\u001b[0m\u001b[0;34m,\u001b[0m \u001b[0mvalue\u001b[0m \u001b[0;32min\u001b[0m \u001b[0menumerate\u001b[0m\u001b[0;34m(\u001b[0m\u001b[0mavgs\u001b[0m\u001b[0;34m)\u001b[0m\u001b[0;34m:\u001b[0m\u001b[0;34m\u001b[0m\u001b[0m\n\u001b[0;32m----> 5\u001b[0;31m     \u001b[0mprint\u001b[0m\u001b[0;34m(\u001b[0m\u001b[0;34mf\"{hours[idx]:>2}\\t${value:7.2f}\"\u001b[0m\u001b[0;34m)\u001b[0m\u001b[0;34m\u001b[0m\u001b[0m\n\u001b[0m",
      "\u001b[0;31mIndexError\u001b[0m: list index out of range"
     ]
    }
   ],
   "source": [
    "avgs = jun.groupby(['Day', 'Hour'])['Total Due'].sum().groupby('Hour').mean()\n",
    "print(\"——— June ———\")\n",
    "print(\"Time\\tAverage Total Sales\")\n",
    "for idx, value in enumerate(avgs):\n",
    "    print(f\"{hours[idx]:>2}\\t${value:7.2f}\")"
   ]
  }
 ],
 "metadata": {
  "kernelspec": {
   "display_name": "Python 3",
   "language": "python",
   "name": "python3"
  },
  "language_info": {
   "codemirror_mode": {
    "name": "ipython",
    "version": 3
   },
   "file_extension": ".py",
   "mimetype": "text/x-python",
   "name": "python",
   "nbconvert_exporter": "python",
   "pygments_lexer": "ipython3",
   "version": "3.7.0"
  }
 },
 "nbformat": 4,
 "nbformat_minor": 2
}
