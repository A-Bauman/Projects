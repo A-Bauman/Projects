{
 "cells": [
  {
   "cell_type": "code",
   "execution_count": 1,
   "metadata": {},
   "outputs": [],
   "source": [
    "import pandas as pd\n",
    "import matplotlib.pyplot as plt\n",
    "import seaborn as sns\n",
    "import numpy as np\n",
    "from IPython.display import display, HTML\n",
    "\n",
    "%matplotlib inline\n",
    "pd.set_option('precision', 2)"
   ]
  },
  {
   "cell_type": "code",
   "execution_count": 2,
   "metadata": {},
   "outputs": [
    {
     "data": {
      "text/html": [
       "<script>\n",
       "code_show=true; \n",
       "function code_toggle() {\n",
       " if (code_show){\n",
       " $('div.input').hide();\n",
       " } else {\n",
       " $('div.input').show();\n",
       " }\n",
       " code_show = !code_show\n",
       "} \n",
       "$( document ).ready(code_toggle);\n",
       "</script>\n",
       "To toggle seeing the raw code for the ENTIRE notebook, click <a href=\"javascript:code_toggle()\">here</a>."
      ],
      "text/plain": [
       "<IPython.core.display.HTML object>"
      ]
     },
     "execution_count": 2,
     "metadata": {},
     "output_type": "execute_result"
    }
   ],
   "source": [
    "HTML('''<script>\n",
    "code_show=true; \n",
    "function code_toggle() {\n",
    " if (code_show){\n",
    " $('div.input').hide();\n",
    " } else {\n",
    " $('div.input').show();\n",
    " }\n",
    " code_show = !code_show\n",
    "} \n",
    "$( document ).ready(code_toggle);\n",
    "</script>\n",
    "To toggle seeing the raw code for the ENTIRE notebook, click <a href=\"javascript:code_toggle()\">here</a>.''')"
   ]
  },
  {
   "cell_type": "code",
   "execution_count": 3,
   "metadata": {},
   "outputs": [],
   "source": [
    "data = pd.read_csv(\"jasminepearl_20190101-20190509-transactions.csv\")\n",
    "data['Time'] = pd.to_datetime(data['Time'])\n",
    "\n",
    "data.drop(['Customer Name', 'Customer Email', 'New Liabilities', 'Tax', 'Tips', 'Card Type',\n",
    "           'Receipt Number', 'Transaction ID', 'Operation Type', 'Last 4 Digits',\n",
    "           'Cardholder Name', 'Register Name/Number', 'Tendered Amount'], 1, inplace=True)\n",
    "\n",
    "# Just seeing, turns out these are tips.  I'm just going with Total due and getting rid\n",
    "# of tips and Tendered Amount, as the Total is the relevant data.\n",
    "#data.loc[data['Total Due'] != data['Tendered Amount']]"
   ]
  },
  {
   "cell_type": "code",
   "execution_count": 4,
   "metadata": {},
   "outputs": [],
   "source": [
    "#data = data.loc[(data['Time'].dt.month == 1) | (data['Time'].dt.month == 4)]\n",
    "\n",
    "jan = data.loc[data['Time'].dt.month == 1]\n",
    "apr = data.loc[data['Time'].dt.month == 4]"
   ]
  },
  {
   "cell_type": "code",
   "execution_count": 5,
   "metadata": {},
   "outputs": [],
   "source": [
    "def averages(mnth, hour, day):\n",
    "    \"\"\"get dataframe for specified hour of given day\"\"\"\n",
    "    return mnth.loc[(mnth['Time'].dt.hour == hour) &\n",
    "             (mnth['Time'].dt.weekday == day)]"
   ]
  },
  {
   "cell_type": "code",
   "execution_count": 6,
   "metadata": {},
   "outputs": [],
   "source": [
    "#averages(apr, 10, 0)['Total Due']#.mean().round(2)"
   ]
  },
  {
   "cell_type": "code",
   "execution_count": 7,
   "metadata": {},
   "outputs": [
    {
     "name": "stdout",
     "output_type": "stream",
     "text": [
      "\n",
      "                  ——— January ———\n",
      "\n",
      "Monday\n",
      "Hour: 10   total hourly sales: 190.21   number of transactions:  7    average: 27.17\n",
      "Hour: 11   total hourly sales: 321.15   number of transactions:  18    average: 17.84\n",
      "Hour: 12   total hourly sales: 361.32   number of transactions:  24    average: 15.06\n",
      "Hour: 13   total hourly sales: 261.36   number of transactions:  11    average: 23.76\n",
      "Hour: 14   total hourly sales: 364.83   number of transactions:  25    average: 14.59\n",
      "Hour: 15   total hourly sales: 430.76   number of transactions:  26    average: 16.57\n",
      "Hour: 16   total hourly sales: 454.4   number of transactions:  20    average: 22.72\n",
      "Hour: 17   total hourly sales: 192.82   number of transactions:  12    average: 16.07\n",
      "\n",
      "\n",
      "Tuesday\n",
      "Hour: 10   total hourly sales: 95.95   number of transactions:  9    average: 10.66\n",
      "Hour: 11   total hourly sales: 192.82   number of transactions:  13    average: 14.83\n",
      "Hour: 12   total hourly sales: 349.1   number of transactions:  13    average: 26.85\n",
      "Hour: 13   total hourly sales: 424.72   number of transactions:  23    average: 18.47\n",
      "Hour: 14   total hourly sales: 175.7   number of transactions:  21    average: 8.37\n",
      "Hour: 15   total hourly sales: 229.33   number of transactions:  17    average: 13.49\n",
      "Hour: 16   total hourly sales: 553.58   number of transactions:  21    average: 26.36\n",
      "Hour: 17   total hourly sales: 321.87   number of transactions:  13    average: 24.76\n",
      "\n",
      "\n",
      "Wednesday\n",
      "Hour: 10   total hourly sales: 166.11   number of transactions:  13    average: 12.78\n",
      "Hour: 11   total hourly sales: 391.83   number of transactions:  20    average: 19.59\n",
      "Hour: 12   total hourly sales: 312.6   number of transactions:  17    average: 18.39\n",
      "Hour: 13   total hourly sales: 601.47   number of transactions:  31    average: 19.4\n",
      "Hour: 14   total hourly sales: 415.99   number of transactions:  24    average: 17.33\n",
      "Hour: 15   total hourly sales: 456.63   number of transactions:  28    average: 16.31\n",
      "Hour: 16   total hourly sales: 417.85   number of transactions:  15    average: 27.86\n",
      "Hour: 17   total hourly sales: 195.97   number of transactions:  8    average: 24.5\n",
      "\n",
      "\n",
      "Thursday\n",
      "Hour: 10   total hourly sales: 253.39   number of transactions:  14    average: 18.1\n",
      "Hour: 11   total hourly sales: 435.35   number of transactions:  24    average: 18.14\n",
      "Hour: 12   total hourly sales: 624.16   number of transactions:  26    average: 24.01\n",
      "Hour: 13   total hourly sales: 657.21   number of transactions:  22    average: 29.87\n",
      "Hour: 14   total hourly sales: 585.1   number of transactions:  35    average: 16.72\n",
      "Hour: 15   total hourly sales: 404.61   number of transactions:  20    average: 20.23\n",
      "Hour: 16   total hourly sales: 374.24   number of transactions:  20    average: 18.71\n",
      "Hour: 17   total hourly sales: 209.7   number of transactions:  10    average: 20.97\n",
      "\n",
      "\n",
      "Friday\n",
      "Hour: 10   total hourly sales: 60.42   number of transactions:  8    average: 7.55\n",
      "Hour: 11   total hourly sales: 252.32   number of transactions:  13    average: 19.41\n",
      "Hour: 12   total hourly sales: 424.48   number of transactions:  13    average: 32.65\n",
      "Hour: 13   total hourly sales: 211.91   number of transactions:  18    average: 11.77\n",
      "Hour: 14   total hourly sales: 609.22   number of transactions:  17    average: 35.84\n",
      "Hour: 15   total hourly sales: 573.87   number of transactions:  26    average: 22.07\n",
      "Hour: 16   total hourly sales: 437.35   number of transactions:  18    average: 24.3\n",
      "Hour: 17   total hourly sales: 259.68   number of transactions:  12    average: 21.64\n",
      "\n",
      "\n",
      "Saturday\n",
      "Hour: 11   total hourly sales: 952.87   number of transactions:  33    average: 28.87\n",
      "Hour: 12   total hourly sales: 1063.45   number of transactions:  35    average: 30.38\n",
      "Hour: 13   total hourly sales: 1160.91   number of transactions:  46    average: 25.24\n",
      "Hour: 14   total hourly sales: 1054.73   number of transactions:  42    average: 25.11\n",
      "Hour: 15   total hourly sales: 1155.27   number of transactions:  47    average: 24.58\n",
      "Hour: 16   total hourly sales: 1023.64   number of transactions:  44    average: 23.26\n",
      "\n",
      "\n",
      "Sunday\n",
      "Hour: 11   total hourly sales: 259.89   number of transactions:  17    average: 15.29\n",
      "Hour: 12   total hourly sales: 478.22   number of transactions:  23    average: 20.79\n",
      "Hour: 13   total hourly sales: 865.76   number of transactions:  43    average: 20.13\n",
      "Hour: 14   total hourly sales: 829.35   number of transactions:  33    average: 25.13\n",
      "Hour: 15   total hourly sales: 940.73   number of transactions:  42    average: 22.4\n",
      "Hour: 16   total hourly sales: 31.3   number of transactions:  2    average: 15.65\n",
      "\n",
      "\n"
     ]
    }
   ],
   "source": [
    "hours = [10, 11, 12, 13, 14, 15, 16, 17]\n",
    "days = ['Monday', 'Tuesday', 'Wednesday', 'Thursday', 'Friday', 'Saturday', 'Sunday']\n",
    "\n",
    "print(\"\\n                  ——— January ———\\n\")\n",
    "for i in range(7):\n",
    "    print(days[i])\n",
    "    for hour in hours:\n",
    "        if (i >= 5) and (hour == 10 or hour == 17):\n",
    "            continue\n",
    "        if (i == 6) and (hour == 17):\n",
    "            continue\n",
    "        total = averages(jan, hour, i)['Total Due'].sum().round(2)\n",
    "        count = averages(jan, hour, i)['Total Due'].count()\n",
    "        print(\"Hour:\", hour, \"  total hourly sales:\", total, \"  number of transactions: \", count,\n",
    "              \"   average:\", (total/count).round(2))\n",
    "    print('\\n')"
   ]
  },
  {
   "cell_type": "code",
   "execution_count": 8,
   "metadata": {},
   "outputs": [
    {
     "name": "stdout",
     "output_type": "stream",
     "text": [
      "\n",
      "                  ——— April ———\n",
      "\n",
      "Monday\n",
      "Hour: 10   total hourly sales: 129.65   number of transactions:  5    average: 25.93\n",
      "Hour: 11   total hourly sales: 581.33   number of transactions:  22    average: 26.42\n",
      "Hour: 12   total hourly sales: 447.22   number of transactions:  16    average: 27.95\n",
      "Hour: 13   total hourly sales: 342.44   number of transactions:  17    average: 20.14\n",
      "Hour: 14   total hourly sales: 538.46   number of transactions:  17    average: 31.67\n",
      "Hour: 15   total hourly sales: 309.65   number of transactions:  16    average: 19.35\n",
      "Hour: 16   total hourly sales: 390.2   number of transactions:  20    average: 19.51\n",
      "Hour: 17   total hourly sales: 386.92   number of transactions:  16    average: 24.18\n",
      "\n",
      "\n",
      "Tuesday\n",
      "Hour: 10   total hourly sales: 311.53   number of transactions:  17    average: 18.33\n",
      "Hour: 11   total hourly sales: 454.96   number of transactions:  18    average: 25.28\n",
      "Hour: 12   total hourly sales: 501.07   number of transactions:  18    average: 27.84\n",
      "Hour: 13   total hourly sales: 465.48   number of transactions:  18    average: 25.86\n",
      "Hour: 14   total hourly sales: 197.38   number of transactions:  18    average: 10.97\n",
      "Hour: 15   total hourly sales: 298.48   number of transactions:  15    average: 19.9\n",
      "Hour: 16   total hourly sales: 407.91   number of transactions:  17    average: 23.99\n",
      "Hour: 17   total hourly sales: 113.22   number of transactions:  9    average: 12.58\n",
      "\n",
      "\n",
      "Wednesday\n",
      "Hour: 10   total hourly sales: 420.98   number of transactions:  11    average: 38.27\n",
      "Hour: 11   total hourly sales: 275.62   number of transactions:  7    average: 39.37\n",
      "Hour: 12   total hourly sales: 224.28   number of transactions:  7    average: 32.04\n",
      "Hour: 13   total hourly sales: 210.75   number of transactions:  11    average: 19.16\n",
      "Hour: 14   total hourly sales: 477.5   number of transactions:  19    average: 25.13\n",
      "Hour: 15   total hourly sales: 462.14   number of transactions:  16    average: 28.88\n",
      "Hour: 16   total hourly sales: 232.62   number of transactions:  8    average: 29.08\n",
      "Hour: 17   total hourly sales: 60.85   number of transactions:  4    average: 15.21\n",
      "\n",
      "\n",
      "Thursday\n",
      "Hour: 10   total hourly sales: 183.19   number of transactions:  4    average: 45.8\n",
      "Hour: 11   total hourly sales: 365.1   number of transactions:  14    average: 26.08\n",
      "Hour: 12   total hourly sales: 441.32   number of transactions:  13    average: 33.95\n",
      "Hour: 13   total hourly sales: 153.97   number of transactions:  10    average: 15.4\n",
      "Hour: 14   total hourly sales: 388.5   number of transactions:  12    average: 32.38\n",
      "Hour: 15   total hourly sales: 145.89   number of transactions:  13    average: 11.22\n",
      "Hour: 16   total hourly sales: 97.94   number of transactions:  3    average: 32.65\n",
      "Hour: 17   total hourly sales: 125.85   number of transactions:  7    average: 17.98\n",
      "\n",
      "\n",
      "Friday\n",
      "Hour: 10   total hourly sales: 310.0   number of transactions:  14    average: 22.14\n",
      "Hour: 11   total hourly sales: 501.84   number of transactions:  19    average: 26.41\n",
      "Hour: 12   total hourly sales: 327.6   number of transactions:  20    average: 16.38\n",
      "Hour: 13   total hourly sales: 415.73   number of transactions:  15    average: 27.72\n",
      "Hour: 14   total hourly sales: 436.88   number of transactions:  16    average: 27.3\n",
      "Hour: 15   total hourly sales: 298.26   number of transactions:  19    average: 15.7\n",
      "Hour: 16   total hourly sales: 258.66   number of transactions:  10    average: 25.87\n",
      "Hour: 17   total hourly sales: 306.33   number of transactions:  9    average: 34.04\n",
      "\n",
      "\n",
      "Saturday\n",
      "Hour: 11   total hourly sales: 358.22   number of transactions:  15    average: 23.88\n",
      "Hour: 12   total hourly sales: 671.93   number of transactions:  21    average: 32.0\n",
      "Hour: 13   total hourly sales: 1030.27   number of transactions:  28    average: 36.8\n",
      "Hour: 14   total hourly sales: 935.84   number of transactions:  41    average: 22.83\n",
      "Hour: 15   total hourly sales: 981.12   number of transactions:  40    average: 24.53\n",
      "Hour: 16   total hourly sales: 1034.05   number of transactions:  36    average: 28.72\n",
      "\n",
      "\n",
      "Sunday\n",
      "Hour: 11   total hourly sales: 492.13   number of transactions:  13    average: 37.86\n",
      "Hour: 12   total hourly sales: 498.5   number of transactions:  22    average: 22.66\n",
      "Hour: 13   total hourly sales: 727.84   number of transactions:  24    average: 30.33\n",
      "Hour: 14   total hourly sales: 813.91   number of transactions:  29    average: 28.07\n",
      "Hour: 15   total hourly sales: 595.69   number of transactions:  23    average: 25.9\n",
      "Hour: 16   total hourly sales: 20.43   number of transactions:  1    average: 20.43\n",
      "\n",
      "\n"
     ]
    }
   ],
   "source": [
    "print(\"\\n                  ——— April ———\\n\")\n",
    "for i in range(7):\n",
    "    print(days[i])\n",
    "    for hour in hours:\n",
    "        if (i >= 5) and (hour == 10 or hour == 17):\n",
    "            continue\n",
    "        if (i == 6) and (hour == 17):\n",
    "            continue\n",
    "        total = averages(apr, hour, i)['Total Due'].sum().round(2)\n",
    "        count = averages(apr, hour, i)['Total Due'].count()\n",
    "        print(\"Hour:\", hour, \"  total hourly sales:\", total, \"  number of transactions: \", count,\n",
    "              \"   average:\", (total/count).round(2))\n",
    "    print('\\n')"
   ]
  },
  {
   "cell_type": "code",
   "execution_count": 9,
   "metadata": {},
   "outputs": [],
   "source": [
    "def total(month, week):\n",
    "    return month.loc[(month['Time'].dt.hour == 14) & \n",
    "            (month['Time'].dt.weekday == 5) & \n",
    "            (month['Time'].dt.week == week)]['Total Due'].sum().round(2)\n",
    "    \n",
    "#for i in range(6):\n",
    " #   print(total(jan, i))"
   ]
  },
  {
   "cell_type": "code",
   "execution_count": null,
   "metadata": {},
   "outputs": [],
   "source": []
  },
  {
   "cell_type": "code",
   "execution_count": 10,
   "metadata": {},
   "outputs": [],
   "source": [
    "#apr.loc[(apr['Time'].dt.hour == 13) & (apr['Time'].dt.weekday == 3)]"
   ]
  },
  {
   "cell_type": "code",
   "execution_count": null,
   "metadata": {},
   "outputs": [],
   "source": []
  },
  {
   "cell_type": "code",
   "execution_count": null,
   "metadata": {},
   "outputs": [],
   "source": []
  }
 ],
 "metadata": {
  "kernelspec": {
   "display_name": "Python 3",
   "language": "python",
   "name": "python3"
  },
  "language_info": {
   "codemirror_mode": {
    "name": "ipython",
    "version": 3
   },
   "file_extension": ".py",
   "mimetype": "text/x-python",
   "name": "python",
   "nbconvert_exporter": "python",
   "pygments_lexer": "ipython3",
   "version": "3.7.0"
  }
 },
 "nbformat": 4,
 "nbformat_minor": 2
}
